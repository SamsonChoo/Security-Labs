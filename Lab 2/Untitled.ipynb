{
 "cells": [
  {
   "cell_type": "code",
   "execution_count": 9,
   "metadata": {},
   "outputs": [],
   "source": [
    "import string\n",
    "d={}\n",
    "with open(\"sherlock-Copy1.txt\", mode=\"r\", encoding='utf-8', newline='\\n') as fin:\n",
    "        text = fin.read()\n",
    "        for char in text:\n",
    "            if char.isalpha():\n",
    "                char=char.lower()\n",
    "            if char not in d:\n",
    "                d[char]=0\n",
    "            else:\n",
    "                d[char]+=1"
   ]
  },
  {
   "cell_type": "code",
   "execution_count": 74,
   "metadata": {},
   "outputs": [
    {
     "name": "stdout",
     "output_type": "stream",
     "text": [
      "['%', '#', '[', '_', '$', '>', ']', '<', '@', '9', '6', '5', '7', '4', '2', ')', '/', '3', '(', '8', '*', ':', '0', ';', '1', 'z', '!', 'q', 'j', 'x', \"'\", '?', '-', 'k', 'v', '\"', '.', ',', 'b', 'p', 'g', 'f', 'y', 'c', 'w', 'm', '\\n', 'u', 'l', 'd', 'r', 's', 'h', 'n', 'i', 'o', 'a', 't', 'e', ' ']\n"
     ]
    }
   ],
   "source": [
    "import operator\n",
    "max(d.items(), key=operator.itemgetter(1))\n",
    "frequencylist = sorted(d, key=d.__getitem__)\n",
    "print(frequencylist)"
   ]
  },
  {
   "cell_type": "code",
   "execution_count": 70,
   "metadata": {},
   "outputs": [
    {
     "name": "stdout",
     "output_type": "stream",
     "text": [
      "{'%': 0, 'b': 3850, 'r': 15591, ')': 25, '#': 0, 'a': 20729, '9': 10, '/': 25, '[': 1, 'i': 18192, '3': 25, 'o': 20692, 'j': 244, '*': 27, \"'\": 444, '.': 3633, 'w': 6730, 'h': 17299, '7': 21, '6': 13, 'n': 17424, 's': 16094, '1': 92, '?': 517, 'c': 6532, '@': 3, '!': 182, ':': 38, 'm': 6999, 'e': 31863, 'y': 5573, '5': 16, '0': 40, 'g': 4761, 'f': 5553, 'd': 10994, 'z': 122, 'l': 10209, '\\n': 7727, 'x': 407, '8': 26, ';': 51, ',': 3655, '_': 1, ' ': 56424, '$': 1, 'p': 4249, 't': 24195, '>': 1, ']': 1, 'q': 201, '2': 23, '<': 1, '-': 804, '4': 22, '(': 25, 'k': 2074, '\"': 2794, 'v': 2723, 'u': 7995}\n"
     ]
    }
   ],
   "source": [
    "print(d)"
   ]
  },
  {
   "cell_type": "code",
   "execution_count": 57,
   "metadata": {},
   "outputs": [
    {
     "name": "stdout",
     "output_type": "stream",
     "text": [
      "45\n",
      "A\n"
     ]
    }
   ],
   "source": [
    "printabledict={}\n",
    "for i in range(len(string.printable)):\n",
    "    printabledict[i]=string.printable[i]\n",
    "for key in printabledict:\n",
    "    if printabledict[key]==\"J\":\n",
    "        print(key)\n",
    "print(printabledict[36])"
   ]
  },
  {
   "cell_type": "code",
   "execution_count": 76,
   "metadata": {},
   "outputs": [
    {
     "ename": "AttributeError",
     "evalue": "'int' object has no attribute 'decode'",
     "output_type": "error",
     "traceback": [
      "\u001b[0;31m---------------------------------------------------------------------------\u001b[0m",
      "\u001b[0;31mAttributeError\u001b[0m                            Traceback (most recent call last)",
      "\u001b[0;32m<ipython-input-76-e9be9731f8ec>\u001b[0m in \u001b[0;36m<module>\u001b[0;34m()\u001b[0m\n\u001b[1;32m      2\u001b[0m     \u001b[0ma\u001b[0m\u001b[0;34m=\u001b[0m\u001b[0mbytearray\u001b[0m\u001b[0;34m(\u001b[0m\u001b[0mprintabledict\u001b[0m\u001b[0;34m[\u001b[0m\u001b[0mkey\u001b[0m\u001b[0;34m]\u001b[0m\u001b[0;34m,\u001b[0m\u001b[0;34m\"utf-8\"\u001b[0m\u001b[0;34m)\u001b[0m\u001b[0;34m\u001b[0m\u001b[0m\n\u001b[1;32m      3\u001b[0m \u001b[0;32mfor\u001b[0m \u001b[0mi\u001b[0m \u001b[0;32min\u001b[0m \u001b[0ma\u001b[0m\u001b[0;34m:\u001b[0m\u001b[0;34m\u001b[0m\u001b[0m\n\u001b[0;32m----> 4\u001b[0;31m     \u001b[0mprint\u001b[0m\u001b[0;34m(\u001b[0m\u001b[0mi\u001b[0m\u001b[0;34m.\u001b[0m\u001b[0mdecode\u001b[0m\u001b[0;34m(\u001b[0m\u001b[0;34m\"utf-8\"\u001b[0m\u001b[0;34m)\u001b[0m\u001b[0;34m)\u001b[0m\u001b[0;34m\u001b[0m\u001b[0m\n\u001b[0m",
      "\u001b[0;31mAttributeError\u001b[0m: 'int' object has no attribute 'decode'"
     ]
    }
   ],
   "source": [
    "for key in printabledict:\n",
    "    a=bytearray(printabledict[key],\"utf-8\")\n",
    "for i in a:\n",
    "    print(i.decode(\"utf-8\"))"
   ]
  },
  {
   "cell_type": "code",
   "execution_count": 5,
   "metadata": {},
   "outputs": [
    {
     "name": "stdout",
     "output_type": "stream",
     "text": [
      "bytearray(b'hello')\n"
     ]
    }
   ],
   "source": [
    "a=bytearray(b'hello')\n",
    "print(a)"
   ]
  },
  {
   "cell_type": "code",
   "execution_count": null,
   "metadata": {},
   "outputs": [],
   "source": []
  }
 ],
 "metadata": {
  "kernelspec": {
   "display_name": "Python 3",
   "language": "python",
   "name": "python3"
  },
  "language_info": {
   "codemirror_mode": {
    "name": "ipython",
    "version": 3
   },
   "file_extension": ".py",
   "mimetype": "text/x-python",
   "name": "python",
   "nbconvert_exporter": "python",
   "pygments_lexer": "ipython3",
   "version": "3.5.2"
  }
 },
 "nbformat": 4,
 "nbformat_minor": 2
}
