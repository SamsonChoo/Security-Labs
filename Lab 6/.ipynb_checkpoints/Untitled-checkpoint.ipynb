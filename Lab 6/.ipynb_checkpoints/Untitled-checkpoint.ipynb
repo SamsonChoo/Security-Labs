{
 "cells": [
  {
   "cell_type": "code",
   "execution_count": 1,
   "metadata": {},
   "outputs": [],
   "source": [
    "sbox = [0xC, 0x5, 0x6, 0xB, 0x9, 0x0, 0xA, 0xD,\n",
    "        0x3, 0xE, 0xF, 0x8, 0x4, 0x7, 0x1, 0x2]\n",
    "sbox_inverse = [sbox.index(x) for x in range(16)]"
   ]
  },
  {
   "cell_type": "code",
   "execution_count": 2,
   "metadata": {},
   "outputs": [
    {
     "name": "stdout",
     "output_type": "stream",
     "text": [
      "[5, 14, 15, 8, 12, 1, 2, 13, 11, 4, 6, 3, 0, 7, 9, 10]\n"
     ]
    }
   ],
   "source": [
    "print(sbox_inverse)"
   ]
  },
  {
   "cell_type": "code",
   "execution_count": 6,
   "metadata": {},
   "outputs": [],
   "source": [
    "def rol(val, r_bits, max_bits): return \\\n",
    "    (val << r_bits % max_bits) & (2**max_bits - 1) | \\\n",
    "    ((val & (2**max_bits - 1)) >> (max_bits - (r_bits % max_bits)))\n",
    "\n",
    "\n",
    "def genRoundKeys(key):\n",
    "    roundkeydict = {0:32}\n",
    "    for i in range(1,33):\n",
    "        roundkeydict[i]=(key>>16)\n",
    "        key = rol(key,61,80)\n",
    "        key = (sbox[key>>76]<<76)+((key<<4)>>4)\n",
    "        key = key ^ (i<<15)\n",
    "    return roundkeydict\n"
   ]
  },
  {
   "cell_type": "code",
   "execution_count": 7,
   "metadata": {},
   "outputs": [],
   "source": [
    "key1 = 0x00000000000000000000\n",
    "keys = genRoundKeys(key1)"
   ]
  },
  {
   "cell_type": "code",
   "execution_count": 8,
   "metadata": {},
   "outputs": [
    {
     "name": "stdout",
     "output_type": "stream",
     "text": [
      "{0: 32, 1: 0, 2: 13835058055282163727, 3: 19599691966595465247, 4: 17293859952548380688, 5: 6917667566177484894, 6: 18446827636857503929, 7: 16141288092748218841, 8: 9224212064476594462, 9: 23060523563878450684, 10: 12683376803784428419, 11: 23065174498827312547, 12: 18459700731595198924, 13: 26550549415410556826, 14: 15008014924389595245, 15: 22013166207266576989, 16: 29030667397277752554, 17: 6298691294202296592, 18: 14155845989416273519, 19: 17862499390935901486, 20: 19462797256532545091, 21: 18920925794318389668, 22: 13202584687043175986, 23: 16016655044209955422, 24: 18561827519785133269, 25: 22574680379791842015, 26: 19857293424164496356, 27: 26835651048142873883, 28: 23747356098206518664, 29: 14165062391218416947, 30: 23722210289305140879, 31: 20082897806737690881, 32: 16787768866064619592}\n"
     ]
    }
   ],
   "source": [
    "print(keys)"
   ]
  },
  {
   "cell_type": "code",
   "execution_count": null,
   "metadata": {},
   "outputs": [],
   "source": []
  }
 ],
 "metadata": {
  "kernelspec": {
   "display_name": "Python 3",
   "language": "python",
   "name": "python3"
  },
  "language_info": {
   "codemirror_mode": {
    "name": "ipython",
    "version": 3
   },
   "file_extension": ".py",
   "mimetype": "text/x-python",
   "name": "python",
   "nbconvert_exporter": "python",
   "pygments_lexer": "ipython3",
   "version": "3.5.2"
  }
 },
 "nbformat": 4,
 "nbformat_minor": 2
}
