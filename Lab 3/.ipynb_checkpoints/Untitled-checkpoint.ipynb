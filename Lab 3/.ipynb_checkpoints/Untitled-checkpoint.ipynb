{
 "cells": [
  {
   "cell_type": "code",
   "execution_count": 23,
   "metadata": {},
   "outputs": [],
   "source": [
    "import hashlib\n",
    "import time\n",
    "import itertools as it"
   ]
  },
  {
   "cell_type": "code",
   "execution_count": 70,
   "metadata": {},
   "outputs": [
    {
     "data": {
      "text/plain": [
       "'1b31905c59f481958d2eb72158c27ac7'"
      ]
     },
     "execution_count": 70,
     "metadata": {},
     "output_type": "execute_result"
    }
   ],
   "source": [
    "a=\"egunb\"\n",
    "hashlib.md5(bytearray(a,encoding=\"utf-8\")).hexdigest()"
   ]
  },
  {
   "cell_type": "code",
   "execution_count": 72,
   "metadata": {},
   "outputs": [],
   "source": [
    "def bruteforce(filein):\n",
    "    starttime = time.time()\n",
    "    hashlist=[]\n",
    "    returnlist = []\n",
    "    found=0\n",
    "    possible_characters=\"1234567890qwertyuiopasdfghjklzxcvbnm\"\n",
    "    with open(filein, mode=\"r\", encoding='utf-8', newline='\\n') as fin:\n",
    "        for line in fin:\n",
    "            hashlist.append(line[:-1])\n",
    "        for tup in it.product(possible_characters,repeat=5):\n",
    "            guess = \"\".join(tup)\n",
    "            for line in hashlist:\n",
    "                if line == hashlib.md5(bytearray(guess,encoding=\"utf-8\")).hexdigest():\n",
    "                    print(str(guess)+\" found!\")\n",
    "                    returnlist.append(guess)\n",
    "                    if found!=14:\n",
    "                        found+=1\n",
    "                    else:\n",
    "                        totaltime = time.time()-starttime\n",
    "                        print(\"Total time taken for brute force: \" + str(totaltime))\n",
    "                        return returnlist"
   ]
  },
  {
   "cell_type": "code",
   "execution_count": 73,
   "metadata": {},
   "outputs": [
    {
     "name": "stdout",
     "output_type": "stream",
     "text": [
      "egunb found!\n",
      "tthel found!\n",
      "tpoin found!\n",
      "owso9 found!\n",
      "opmen found!\n",
      "ofror found!\n",
      "aseas found!\n",
      "sso55 found!\n",
      "di5gv found!\n",
      "dsmto found!\n",
      "hed4e found!\n",
      "lou0g found!\n",
      "cance found!\n",
      "nized found!\n",
      "mlhdi found!\n",
      "Total time taken for brute force: 4065.817893266678\n"
     ]
    },
    {
     "data": {
      "text/plain": [
       "['egunb',\n",
       " 'tthel',\n",
       " 'tpoin',\n",
       " 'owso9',\n",
       " 'opmen',\n",
       " 'ofror',\n",
       " 'aseas',\n",
       " 'sso55',\n",
       " 'di5gv',\n",
       " 'dsmto',\n",
       " 'hed4e',\n",
       " 'lou0g',\n",
       " 'cance',\n",
       " 'nized',\n",
       " 'mlhdi']"
      ]
     },
     "execution_count": 73,
     "metadata": {},
     "output_type": "execute_result"
    }
   ],
   "source": [
    "bruteforce(\"hash5.txt\")"
   ]
  },
  {
   "cell_type": "code",
   "execution_count": 95,
   "metadata": {},
   "outputs": [],
   "source": [
    "def dictattack(filein,dictionary):\n",
    "    starttime = time.time()\n",
    "    hashlist=[]\n",
    "    returnlist = []\n",
    "    memolist=[]\n",
    "    found=0\n",
    "    numbers=\"1234567890\"\n",
    "    i=0\n",
    "    with open(filein, mode=\"r\", encoding='utf-8', newline='\\n') as fin:\n",
    "        for line in fin:\n",
    "            hashlist.append(line[:-1])\n",
    "    with open(dictionary, mode=\"r\", encoding='utf-8', newline='\\n') as fin:\n",
    "        for line in fin:\n",
    "            while(i<4):\n",
    "                guess = ''.join(sorted(list(line[:-1])))\n",
    "                if guess[0:3] not in memolist:\n",
    "                    memolist.append(guess[0:3])\n",
    "                if guess[1:4] not in memolist:\n",
    "                    memolist.append(guess[1:4])\n",
    "                if guess[2:5] not in memolist:\n",
    "                    memolist.append(guess[2:5])\n",
    "                print(memolist)\n",
    "                i+=1\n",
    "#             for line in hashlist:\n",
    "#                 if line == hashlib.md5(bytearray(guess,encoding=\"utf-8\")).hexdigest():\n",
    "#                     print(str(guess)+\" found!\")\n",
    "#                     returnlist.append(guess)\n",
    "#                     if found!=14:\n",
    "#                         found+=1\n",
    "#                     else:\n",
    "#                         totaltime = time.time()-starttime\n",
    "#                         print(\"Total time taken for brute force: \" + str(totaltime))\n",
    "#                         return returnlist"
   ]
  },
  {
   "cell_type": "code",
   "execution_count": 96,
   "metadata": {},
   "outputs": [
    {
     "name": "stdout",
     "output_type": "stream",
     "text": [
      "['efh', 'fho', 'hot']\n",
      "['efh', 'fho', 'hot']\n",
      "['efh', 'fho', 'hot']\n",
      "['efh', 'fho', 'hot']\n"
     ]
    }
   ],
   "source": [
    "dictattack(\"hash5.txt\",\"words5.txt\")"
   ]
  },
  {
   "cell_type": "code",
   "execution_count": 90,
   "metadata": {},
   "outputs": [
    {
     "data": {
      "text/plain": [
       "'123abef'"
      ]
     },
     "execution_count": 90,
     "metadata": {},
     "output_type": "execute_result"
    }
   ],
   "source": [
    "a=\"afeb123\"\n",
    "''.join(sorted(list(a)))"
   ]
  },
  {
   "cell_type": "code",
   "execution_count": null,
   "metadata": {},
   "outputs": [],
   "source": []
  }
 ],
 "metadata": {
  "kernelspec": {
   "display_name": "Python 3",
   "language": "python",
   "name": "python3"
  },
  "language_info": {
   "codemirror_mode": {
    "name": "ipython",
    "version": 3
   },
   "file_extension": ".py",
   "mimetype": "text/x-python",
   "name": "python",
   "nbconvert_exporter": "python",
   "pygments_lexer": "ipython3",
   "version": "3.5.2"
  }
 },
 "nbformat": 4,
 "nbformat_minor": 2
}
