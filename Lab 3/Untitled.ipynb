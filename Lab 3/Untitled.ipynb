{
 "cells": [
  {
   "cell_type": "code",
   "execution_count": 22,
   "metadata": {},
   "outputs": [],
   "source": [
    "import hashlib\n",
    "import time\n",
    "import itertools as it\n",
    "import string\n",
    "import random"
   ]
  },
  {
   "cell_type": "code",
   "execution_count": 70,
   "metadata": {},
   "outputs": [
    {
     "data": {
      "text/plain": [
       "'1b31905c59f481958d2eb72158c27ac7'"
      ]
     },
     "execution_count": 70,
     "metadata": {},
     "output_type": "execute_result"
    }
   ],
   "source": [
    "a=\"egunb\"\n",
    "hashlib.md5(bytearray(a,encoding=\"utf-8\")).hexdigest()"
   ]
  },
  {
   "cell_type": "code",
   "execution_count": 72,
   "metadata": {},
   "outputs": [],
   "source": [
    "def bruteforce(filein):\n",
    "    starttime = time.time()\n",
    "    hashlist=[]\n",
    "    returnlist = []\n",
    "    found=0\n",
    "    possible_characters=\"1234567890qwertyuiopasdfghjklzxcvbnm\"\n",
    "    with open(filein, mode=\"r\", encoding='utf-8', newline='\\n') as fin:\n",
    "        for line in fin:\n",
    "            hashlist.append(line[:-1])\n",
    "        for tup in it.product(possible_characters,repeat=5):\n",
    "            guess = \"\".join(tup)\n",
    "            for line in hashlist:\n",
    "                if line == hashlib.md5(bytearray(guess,encoding=\"utf-8\")).hexdigest():\n",
    "                    print(str(guess)+\" found!\")\n",
    "                    returnlist.append(guess)\n",
    "                    if found!=14:\n",
    "                        found+=1\n",
    "                    else:\n",
    "                        totaltime = time.time()-starttime\n",
    "                        print(\"Total time taken for brute force: \" + str(totaltime))\n",
    "                        return returnlist"
   ]
  },
  {
   "cell_type": "code",
   "execution_count": 73,
   "metadata": {},
   "outputs": [
    {
     "name": "stdout",
     "output_type": "stream",
     "text": [
      "egunb found!\n",
      "tthel found!\n",
      "tpoin found!\n",
      "owso9 found!\n",
      "opmen found!\n",
      "ofror found!\n",
      "aseas found!\n",
      "sso55 found!\n",
      "di5gv found!\n",
      "dsmto found!\n",
      "hed4e found!\n",
      "lou0g found!\n",
      "cance found!\n",
      "nized found!\n",
      "mlhdi found!\n",
      "Total time taken for brute force: 4065.817893266678\n"
     ]
    },
    {
     "data": {
      "text/plain": [
       "['egunb',\n",
       " 'tthel',\n",
       " 'tpoin',\n",
       " 'owso9',\n",
       " 'opmen',\n",
       " 'ofror',\n",
       " 'aseas',\n",
       " 'sso55',\n",
       " 'di5gv',\n",
       " 'dsmto',\n",
       " 'hed4e',\n",
       " 'lou0g',\n",
       " 'cance',\n",
       " 'nized',\n",
       " 'mlhdi']"
      ]
     },
     "execution_count": 73,
     "metadata": {},
     "output_type": "execute_result"
    }
   ],
   "source": [
    "bruteforce(\"hash5.txt\")"
   ]
  },
  {
   "cell_type": "code",
   "execution_count": 112,
   "metadata": {},
   "outputs": [],
   "source": [
    "def dictattack(filein,dictionary):\n",
    "    starttime = time.time()\n",
    "    hashlist=[]\n",
    "    returnlist = []\n",
    "    memolist3=[]\n",
    "    memolist4=[]\n",
    "    memolist5=[]\n",
    "    found=0\n",
    "    numbers=\"1234567890\"\n",
    "    with open(filein, mode=\"r\", encoding='utf-8', newline='\\n') as fin:\n",
    "        for line in fin:\n",
    "            hashlist.append(line[:-1])\n",
    "    with open(dictionary, mode=\"r\", encoding='utf-8', newline='\\n') as fin:\n",
    "        for line in fin:\n",
    "            guess = line[:-1]\n",
    "            for line in hashlist:\n",
    "                if line == hashlib.md5(bytearray(guess,encoding=\"utf-8\")).hexdigest():\n",
    "                    print(str(guess)+\" found!\")\n",
    "                    returnlist.append(guess)\n",
    "                    if found!=14:\n",
    "                        found+=1\n",
    "                    else:\n",
    "                        totaltime = time.time()-starttime\n",
    "                        print(\"Total time taken for dictionary attack: \" + str(totaltime))\n",
    "                        return returnlist\n",
    "                else:\n",
    "                    guess = ''.join(sorted(list(line[:-1])))\n",
    "                    if guess not in memolist5:\n",
    "                        memolist5.append(guess)\n",
    "                        for word in it.product(guess,repeat=5):\n",
    "                            word=\"\".join(word)\n",
    "                            if line == hashlib.md5(bytearray(word,encoding=\"utf-8\")).hexdigest():\n",
    "                                print(str(word)+\" found!\")\n",
    "                                returnlist.append(word)\n",
    "                                if found!=14:\n",
    "                                    found+=1\n",
    "                                else:\n",
    "                                    totaltime = time.time()-starttime\n",
    "                                    print(\"Total time taken for dictionary attack: \" + str(totaltime))\n",
    "                                    return returnlist \n",
    "                            if guess[0:4] not in memolist4:\n",
    "                                memolist4.append(guess[0:4])\n",
    "                                for i in range(10):\n",
    "                                    for word in it.product(guess[0:4]+str(i),repeat=5):\n",
    "                                        word=\"\".join(word)\n",
    "                                        if line == hashlib.md5(bytearray(word,encoding=\"utf-8\")).hexdigest():\n",
    "                                            print(str(word)+\" found!\")\n",
    "                                            returnlist.append(word)\n",
    "                                            if found!=14:\n",
    "                                                found+=1\n",
    "                                            else:\n",
    "                                                totaltime = time.time()-starttime\n",
    "                                                print(\"Total time taken for dictionary attack: \" + str(totaltime))\n",
    "                                                return returnlist\n",
    "                            if guess[1:5] not in memolist4:\n",
    "                                memolist4.append(guess[1:5])\n",
    "                                for i in range(10):\n",
    "                                    for word in it.product(guess[1:5]+str(i),repeat=5):\n",
    "                                        word=\"\".join(word)\n",
    "                                        if line == hashlib.md5(bytearray(word,encoding=\"utf-8\")).hexdigest():                             \n",
    "                                            print(str(word)+\" found!\")\n",
    "                                            returnlist.append(word)\n",
    "                                            if found!=14:\n",
    "                                                found+=1\n",
    "                                            else:\n",
    "                                                totaltime = time.time()-starttime\n",
    "                                                print(\"Total time taken for dictionary attack: \" + str(totaltime))\n",
    "                                                return returnlist\n",
    "                            if guess[0:3] not in memolist3:\n",
    "                                memolist4.append(guess[0:3])\n",
    "                                for i in range(10):\n",
    "                                    for j in range(10):\n",
    "                                        for word in it.product(guess[0:3]+str(i)+str(j),repeat=5):\n",
    "                                            word=\"\".join(word)\n",
    "                                            if line == hashlib.md5(bytearray(word,encoding=\"utf-8\")).hexdigest():\n",
    "                                                print(str(word)+\" found!\")\n",
    "                                                returnlist.append(word)\n",
    "                                                if found!=14:\n",
    "                                                    found+=1\n",
    "                                                else:\n",
    "                                                    totaltime = time.time()-starttime\n",
    "                                                    print(\"Total time taken for dictionary attack: \" + str(totaltime))\n",
    "                                                    return returnlist                                \n",
    "                            if guess[1:4] not in memolist3:\n",
    "                                memolist4.append(guess[1:4])\n",
    "                                for i in range(10):\n",
    "                                    for j in range(10):\n",
    "                                        for word in it.product(guess[1:4]+str(i)+str(j),repeat=5):\n",
    "                                            word=\"\".join(word)\n",
    "                                            if line == hashlib.md5(bytearray(word,encoding=\"utf-8\")).hexdigest():\n",
    "                                                print(str(word)+\" found!\")\n",
    "                                                returnlist.append(word)\n",
    "                                                if found!=14:\n",
    "                                                    found+=1\n",
    "                                                else:\n",
    "                                                    totaltime = time.time()-starttime\n",
    "                                                    print(\"Total time taken for dictionary attack: \" + str(totaltime))\n",
    "                                                    return returnlist           \n",
    "                            if guess[2:5] not in memolist3:\n",
    "                                memolist4.append(guess[2:5])\n",
    "                                for i in range(10):\n",
    "                                    for j in range(10):\n",
    "                                        for word in it.product(guess[2:5]+str(i)+str(j),repeat=5):\n",
    "                                            word=\"\".join(word)                                            \n",
    "                                            if line == hashlib.md5(bytearray(word,encoding=\"utf-8\")).hexdigest():\n",
    "                                                print(str(word)+\" found!\")\n",
    "                                                returnlist.append(word)\n",
    "                                                if found!=14:\n",
    "                                                    found+=1\n",
    "                                                else:\n",
    "                                                    totaltime = time.time()-starttime\n",
    "                                                    print(\"Total time taken for dictionary attack: \" + str(totaltime))\n",
    "                                                    return returnlist                                            "
   ]
  },
  {
   "cell_type": "code",
   "execution_count": 132,
   "metadata": {},
   "outputs": [
    {
     "ename": "KeyboardInterrupt",
     "evalue": "",
     "output_type": "error",
     "traceback": [
      "\u001b[0;31m---------------------------------------------------------------------------\u001b[0m",
      "\u001b[0;31mKeyboardInterrupt\u001b[0m                         Traceback (most recent call last)",
      "\u001b[0;32m<ipython-input-132-5a2c7164953d>\u001b[0m in \u001b[0;36m<module>\u001b[0;34m()\u001b[0m\n\u001b[0;32m----> 1\u001b[0;31m \u001b[0mdictattack\u001b[0m\u001b[0;34m(\u001b[0m\u001b[0;34m\"hash5.txt\"\u001b[0m\u001b[0;34m,\u001b[0m\u001b[0;34m\"words5.txt\"\u001b[0m\u001b[0;34m)\u001b[0m\u001b[0;34m\u001b[0m\u001b[0m\n\u001b[0m",
      "\u001b[0;32m<ipython-input-112-5985e6957278>\u001b[0m in \u001b[0;36mdictattack\u001b[0;34m(filein, dictionary)\u001b[0m\n\u001b[1;32m    103\u001b[0m                                         \u001b[0;32mfor\u001b[0m \u001b[0mword\u001b[0m \u001b[0;32min\u001b[0m \u001b[0mit\u001b[0m\u001b[0;34m.\u001b[0m\u001b[0mproduct\u001b[0m\u001b[0;34m(\u001b[0m\u001b[0mguess\u001b[0m\u001b[0;34m[\u001b[0m\u001b[0;36m2\u001b[0m\u001b[0;34m:\u001b[0m\u001b[0;36m5\u001b[0m\u001b[0;34m]\u001b[0m\u001b[0;34m+\u001b[0m\u001b[0mstr\u001b[0m\u001b[0;34m(\u001b[0m\u001b[0mi\u001b[0m\u001b[0;34m)\u001b[0m\u001b[0;34m+\u001b[0m\u001b[0mstr\u001b[0m\u001b[0;34m(\u001b[0m\u001b[0mj\u001b[0m\u001b[0;34m)\u001b[0m\u001b[0;34m,\u001b[0m\u001b[0mrepeat\u001b[0m\u001b[0;34m=\u001b[0m\u001b[0;36m5\u001b[0m\u001b[0;34m)\u001b[0m\u001b[0;34m:\u001b[0m\u001b[0;34m\u001b[0m\u001b[0m\n\u001b[1;32m    104\u001b[0m                                             \u001b[0mword\u001b[0m\u001b[0;34m=\u001b[0m\u001b[0;34m\"\"\u001b[0m\u001b[0;34m.\u001b[0m\u001b[0mjoin\u001b[0m\u001b[0;34m(\u001b[0m\u001b[0mword\u001b[0m\u001b[0;34m)\u001b[0m\u001b[0;34m\u001b[0m\u001b[0m\n\u001b[0;32m--> 105\u001b[0;31m                                             \u001b[0;32mif\u001b[0m \u001b[0mline\u001b[0m \u001b[0;34m==\u001b[0m \u001b[0mhashlib\u001b[0m\u001b[0;34m.\u001b[0m\u001b[0mmd5\u001b[0m\u001b[0;34m(\u001b[0m\u001b[0mbytearray\u001b[0m\u001b[0;34m(\u001b[0m\u001b[0mword\u001b[0m\u001b[0;34m,\u001b[0m\u001b[0mencoding\u001b[0m\u001b[0;34m=\u001b[0m\u001b[0;34m\"utf-8\"\u001b[0m\u001b[0;34m)\u001b[0m\u001b[0;34m)\u001b[0m\u001b[0;34m.\u001b[0m\u001b[0mhexdigest\u001b[0m\u001b[0;34m(\u001b[0m\u001b[0;34m)\u001b[0m\u001b[0;34m:\u001b[0m\u001b[0;34m\u001b[0m\u001b[0m\n\u001b[0m\u001b[1;32m    106\u001b[0m                                                 \u001b[0mprint\u001b[0m\u001b[0;34m(\u001b[0m\u001b[0mstr\u001b[0m\u001b[0;34m(\u001b[0m\u001b[0mword\u001b[0m\u001b[0;34m)\u001b[0m\u001b[0;34m+\u001b[0m\u001b[0;34m\" found!\"\u001b[0m\u001b[0;34m)\u001b[0m\u001b[0;34m\u001b[0m\u001b[0m\n\u001b[1;32m    107\u001b[0m                                                 \u001b[0mreturnlist\u001b[0m\u001b[0;34m.\u001b[0m\u001b[0mappend\u001b[0m\u001b[0;34m(\u001b[0m\u001b[0mword\u001b[0m\u001b[0;34m)\u001b[0m\u001b[0;34m\u001b[0m\u001b[0m\n",
      "\u001b[0;31mKeyboardInterrupt\u001b[0m: "
     ]
    }
   ],
   "source": [
    "dictattack(\"hash5.txt\",\"words5.txt\")"
   ]
  },
  {
   "cell_type": "code",
   "execution_count": 103,
   "metadata": {},
   "outputs": [
    {
     "data": {
      "text/plain": [
       "'c47d187067c6cf953245f128b5fde62a'"
      ]
     },
     "execution_count": 103,
     "metadata": {},
     "output_type": "execute_result"
    }
   ],
   "source": [
    "hashlib.md5(bytearray(\"word\",encoding=\"utf-8\")).hexdigest()"
   ]
  },
  {
   "cell_type": "code",
   "execution_count": 37,
   "metadata": {},
   "outputs": [],
   "source": [
    "def salting(filein,fileout,passwordout,hashout):\n",
    "    passwordlist=['egunb',\n",
    " 'tthel',\n",
    " 'tpoin',\n",
    " 'owso9',\n",
    " 'opmen',\n",
    " 'ofror',\n",
    " 'aseas',\n",
    " 'sso55',\n",
    " 'di5gv',\n",
    " 'dsmto',\n",
    " 'hed4e',\n",
    " 'lou0g',\n",
    " 'cance',\n",
    " 'nized',\n",
    " 'mlhdi']\n",
    "    pout = open(passwordout, mode='w+', encoding='utf-8', newline='\\n')\n",
    "    fout = open(fileout, mode='w+', encoding='utf-8', newline='\\n')\n",
    "    hout = open(hashout, mode='w+', encoding='utf-8', newline='\\n')\n",
    "    for i in passwordlist:\n",
    "        rstring = random.choice(string.ascii_lowercase)\n",
    "        newhash=hashlib.md5(bytearray(i+rstring,encoding=\"utf-8\")).hexdigest()\n",
    "        fout.write(rstring)\n",
    "        fout.write(\",\")\n",
    "        fout.write(newhash)\n",
    "        fout.write(\"\\n\")\n",
    "        pout.write(i+rstring)\n",
    "        pout.write(\"\\n\")\n",
    "        hout.write(newhash)\n",
    "        hout.write(\"\\n\")\n",
    "    pout.close()\n",
    "    fout.close()\n",
    "    hout.close()"
   ]
  },
  {
   "cell_type": "code",
   "execution_count": 39,
   "metadata": {},
   "outputs": [],
   "source": [
    "salting(\"hash5.txt\",\"salted6.txt\",\"password.txt\",\"salted_hash.txt\")"
   ]
  },
  {
   "cell_type": "code",
   "execution_count": null,
   "metadata": {},
   "outputs": [],
   "source": []
  }
 ],
 "metadata": {
  "kernelspec": {
   "display_name": "Python 3",
   "language": "python",
   "name": "python3"
  },
  "language_info": {
   "codemirror_mode": {
    "name": "ipython",
    "version": 3
   },
   "file_extension": ".py",
   "mimetype": "text/x-python",
   "name": "python",
   "nbconvert_exporter": "python",
   "pygments_lexer": "ipython3",
   "version": "3.5.2"
  }
 },
 "nbformat": 4,
 "nbformat_minor": 2
}
